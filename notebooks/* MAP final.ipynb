{
 "cells": [
  {
   "cell_type": "code",
   "execution_count": null,
   "metadata": {},
   "outputs": [],
   "source": [
    "import folium\n",
    "import geopandas as gpd\n",
    "import pandas as pd\n",
    "import numpy as np\n",
    "import math"
   ]
  },
  {
   "cell_type": "code",
   "execution_count": null,
   "metadata": {},
   "outputs": [],
   "source": [
    "sf = gpd.read_file(\"../data/raw/taxi_zones/taxi_zones.shp\")\n",
    "zones = pd.read_csv(\"../data/raw/taxi_zones/taxi+_zone_lookup.csv\")\n",
    "\n",
    "sf.head()"
   ]
  },
  {
   "cell_type": "code",
   "execution_count": null,
   "metadata": {},
   "outputs": [],
   "source": [
    "# LR r-square table\n",
    "# read in data required\n",
    "df1 = pd.read_csv('../data/curated/LR_test_prediction.csv')\n",
    "df2 = pd.read_csv('../data/curated/y_test')\n",
    "df3 = pd.read_csv('../data/curated/X_test')"
   ]
  },
  {
   "cell_type": "code",
   "execution_count": null,
   "metadata": {},
   "outputs": [],
   "source": [
    "# merge three dataframes read in into one dataframe that includes real y test values, predicted y test values\n",
    "# and PULocationID\n",
    "lr_test = pd.merge(df1['0'],df2['income_rate'],left_index=True, right_index=True)\n",
    "lr_test = pd.merge(lr_test,df3['PULocationID'],left_index=True, right_index=True)\n",
    "lr_test = lr_test.rename(columns={'0': 'predicted_income_rate'})"
   ]
  },
  {
   "cell_type": "code",
   "execution_count": null,
   "metadata": {},
   "outputs": [],
   "source": [
    "# calculated the r squared value by locationID\n",
    "lr_rsq = []\n",
    "for i in range(1, 264):\n",
    "    sub_df = lr_test[lr_test['PULocationID'] == i]\n",
    "    corr_matrix_test = np.corrcoef(sub_df['income_rate'], sub_df['predicted_income_rate'])\n",
    "    corr_test = corr_matrix_test[0,1]\n",
    "    R_sq_test = corr_test**2\n",
    "    lr_rsq.append(R_sq_test)"
   ]
  },
  {
   "cell_type": "code",
   "execution_count": null,
   "metadata": {},
   "outputs": [],
   "source": [
    "# sort the calculataed locationID r squared value into dataframe\n",
    "lr_map_data = pd.DataFrame({'PULocationID': range(1, 264), 'r2': lr_rsq})\n",
    "lr_map_data"
   ]
  },
  {
   "cell_type": "code",
   "execution_count": null,
   "metadata": {},
   "outputs": [],
   "source": [
    "# RFR r-square table\n",
    "# read in required data\n",
    "df4 = pd.read_csv('../data/curated/RFR_test_prediction.csv')"
   ]
  },
  {
   "cell_type": "code",
   "execution_count": null,
   "metadata": {},
   "outputs": [],
   "source": [
    "# merge three dataframes read in into one dataframe that includes real y test values, predicted y test values\n",
    "# and PULocationID for random forest regeression\n",
    "rfr_test = pd.merge(df4['predicted_income_rate'],df2['income_rate'],left_index=True, right_index=True)\n",
    "rfr_test = pd.merge(rfr_test,df3['PULocationID'],left_index=True, right_index=True)"
   ]
  },
  {
   "cell_type": "code",
   "execution_count": null,
   "metadata": {},
   "outputs": [],
   "source": [
    "# calculated the r squared value by locationID\n",
    "rfr_rsq = []\n",
    "for i in range(1, 264):\n",
    "    sub_df = rfr_test[lr_test['PULocationID'] == i]\n",
    "    corr_matrix_test = np.corrcoef(sub_df['income_rate'], sub_df['predicted_income_rate'])\n",
    "    corr_test = corr_matrix_test[0,1]\n",
    "    R_sq_test = corr_test**2\n",
    "    rfr_rsq.append(R_sq_test)"
   ]
  },
  {
   "cell_type": "code",
   "execution_count": null,
   "metadata": {},
   "outputs": [],
   "source": [
    "# sort the calculataed locationID r squared value into dataframe\n",
    "rfr_map_data = pd.DataFrame({'PULocationID': range(1, 264), 'r2': rfr_rsq})\n",
    "rfr_map_data"
   ]
  },
  {
   "cell_type": "code",
   "execution_count": null,
   "metadata": {},
   "outputs": [],
   "source": [
    "sf['geometry'] = sf['geometry'].to_crs(\"+proj=longlat +ellps=WGS84 +datum=WGS84 +no_defs\")\n",
    "sf.head()"
   ]
  },
  {
   "cell_type": "code",
   "execution_count": null,
   "metadata": {},
   "outputs": [],
   "source": [
    "# create map for accuracy (for linear regression)\n",
    "lr_gdf = gpd.GeoDataFrame(pd.merge(lr_map_data, sf,\n",
    "                                       left_on='PULocationID',\n",
    "                                       right_on='LocationID',\n",
    "                                       how='right'))\n",
    "lr_gdf"
   ]
  },
  {
   "cell_type": "code",
   "execution_count": null,
   "metadata": {},
   "outputs": [],
   "source": [
    "geoJSON = lr_gdf[['LocationID','geometry']]\n",
    "lr_map = folium.Map(location=[40.66, -73.94],tiles=\"Stamen Terrain\", zoom_start=10)\n",
    "\n",
    "lr_map.add_child(folium.Choropleth(\n",
    "    geo_data=geoJSON,\n",
    "    name='choropleth',\n",
    "    data = lr_gdf,\n",
    "    columns=['PULocationID', 'r2'],\n",
    "    key_on = 'properties.LocationID',\n",
    "    fill_color='YlOrRd',\n",
    "    nan_fill_color='black',\n",
    "    legend_name = 'R2'\n",
    "))"
   ]
  },
  {
   "cell_type": "code",
   "execution_count": null,
   "metadata": {},
   "outputs": [],
   "source": [
    "# create map for accuracy (for random forest regression)\n",
    "rfr_gdf = gpd.GeoDataFrame(pd.merge(rfr_map_data, sf,\n",
    "                                       left_on='PULocationID',\n",
    "                                       right_on='LocationID',\n",
    "                                       how='right'))\n",
    "rfr_gdf"
   ]
  },
  {
   "cell_type": "code",
   "execution_count": null,
   "metadata": {},
   "outputs": [],
   "source": [
    "geoJSON = rfr_gdf[['LocationID','geometry']]\n",
    "rfr_map = folium.Map(location=[40.66, -73.94],tiles=\"Stamen Terrain\", zoom_start=10)\n",
    "\n",
    "rfr_map.add_child(folium.Choropleth(\n",
    "    geo_data=geoJSON,\n",
    "    name='choropleth',\n",
    "    data = rfr_gdf,\n",
    "    columns=['PULocationID', 'r2'],\n",
    "    key_on = 'properties.LocationID',\n",
    "    fill_color='YlOrRd',\n",
    "    nan_fill_color='black',\n",
    "    legend_name = 'R2'\n",
    "))"
   ]
  }
 ],
 "metadata": {
  "kernelspec": {
   "display_name": "Python 3 (Anaconda 3)",
   "language": "python",
   "name": "python3"
  },
  "language_info": {
   "codemirror_mode": {
    "name": "ipython",
    "version": 3
   },
   "file_extension": ".py",
   "mimetype": "text/x-python",
   "name": "python",
   "nbconvert_exporter": "python",
   "pygments_lexer": "ipython3",
   "version": "3.8.2"
  }
 },
 "nbformat": 4,
 "nbformat_minor": 4
}

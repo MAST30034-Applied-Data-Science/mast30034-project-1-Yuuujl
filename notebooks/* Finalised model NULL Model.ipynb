{
 "cells": [
  {
   "cell_type": "markdown",
   "metadata": {},
   "source": [
    "# Using sample mean to construct Null Rregression Model "
   ]
  },
  {
   "cell_type": "code",
   "execution_count": 1,
   "metadata": {},
   "outputs": [],
   "source": [
    "import pandas as pd\n",
    "import numpy as np\n",
    "from sklearn.dummy import DummyRegressor\n",
    "from sklearn.metrics import mean_squared_error, r2_score\n",
    "import math"
   ]
  },
  {
   "cell_type": "code",
   "execution_count": 2,
   "metadata": {},
   "outputs": [],
   "source": [
    "# read in tran,val and test data\n",
    "X_train = pd.read_csv('../data/curated/X_train')\n",
    "y_train = pd.read_csv('../data/curated/y_train')\n",
    "X_val = pd.read_csv('../data/curated/X_val')\n",
    "y_val = pd.read_csv('../data/curated/y_val')\n",
    "X_test = pd.read_csv('../data/curated/X_test')\n",
    "y_test = pd.read_csv('../data/curated/y_test')"
   ]
  },
  {
   "cell_type": "code",
   "execution_count": 3,
   "metadata": {},
   "outputs": [],
   "source": [
    "# extract columns that are predictors \n",
    "X_train = X_train[X_train.columns[2:]]\n",
    "X_val = X_val[X_val.columns[2:]]\n",
    "X_test = X_test[X_test.columns[2:]]"
   ]
  },
  {
   "cell_type": "code",
   "execution_count": 4,
   "metadata": {},
   "outputs": [],
   "source": [
    "# extract columns that are reponse\n",
    "y_train = y_train[y_train.columns[1:]]\n",
    "y_val = y_val[y_val.columns[1:]]\n",
    "y_test = y_test[y_test.columns[1:]]"
   ]
  },
  {
   "cell_type": "code",
   "execution_count": 5,
   "metadata": {},
   "outputs": [
    {
     "data": {
      "text/plain": [
       "DummyRegressor()"
      ]
     },
     "execution_count": 5,
     "metadata": {},
     "output_type": "execute_result"
    }
   ],
   "source": [
    "# fit dummy regression, predicts the mean of the training set\n",
    "dummy_regr = DummyRegressor(strategy=\"mean\")\n",
    "dummy_regr.fit(X_train, y_train)"
   ]
  },
  {
   "cell_type": "code",
   "execution_count": 6,
   "metadata": {},
   "outputs": [],
   "source": [
    "# predict the income rate based on a null model only including mean of response variable\n",
    "y_train_dummy_mean = dummy_regr.predict(X_train)\n",
    "y_val_dummy_mean = dummy_regr.predict(X_val)\n",
    "y_predict_dummy_mean = dummy_regr.predict(X_test)"
   ]
  },
  {
   "cell_type": "code",
   "execution_count": 8,
   "metadata": {},
   "outputs": [
    {
     "name": "stdout",
     "output_type": "stream",
     "text": [
      "r2_score for training(dummy mean): 0.000\n",
      "r2_score for testing(dummy mean): -0.003\n",
      "Mean squared error (dummy): 6.277\n",
      "Root mean squared error for training(dummy): 4.729\n",
      "Root mean squared error for validation(dummy): 3.597\n",
      "Root mean squared error for testing(dummy): 2.505\n"
     ]
    }
   ],
   "source": [
    "print(\"r2_score for training(dummy mean): {:.3f}\".format(r2_score(y_train, y_train_dummy_mean)))\n",
    "print(\"r2_score for testing(dummy mean): {:.3f}\".format(r2_score(y_test, y_predict_dummy_mean)))\n",
    "print(\"Root mean squared error for training(dummy): {:.3f}\".format(math.sqrt(mean_squared_error(y_train, \n",
    "                                                                     y_train_dummy_mean)))) \n",
    "print(\"Root mean squared error for validation(dummy): {:.3f}\".format(math.sqrt(mean_squared_error(y_val, \n",
    "                                                                     y_val_dummy_mean)))) \n",
    "print(\"Root mean squared error for testing(dummy): {:.3f}\".format(math.sqrt(mean_squared_error(y_test, \n",
    "                                                                     y_predict_dummy_mean)))) "
   ]
  },
  {
   "cell_type": "code",
   "execution_count": null,
   "metadata": {},
   "outputs": [],
   "source": []
  },
  {
   "cell_type": "code",
   "execution_count": null,
   "metadata": {},
   "outputs": [],
   "source": []
  }
 ],
 "metadata": {
  "kernelspec": {
   "display_name": "Python 3 (Anaconda 3)",
   "language": "python",
   "name": "python3"
  },
  "language_info": {
   "codemirror_mode": {
    "name": "ipython",
    "version": 3
   },
   "file_extension": ".py",
   "mimetype": "text/x-python",
   "name": "python",
   "nbconvert_exporter": "python",
   "pygments_lexer": "ipython3",
   "version": "3.8.2"
  }
 },
 "nbformat": 4,
 "nbformat_minor": 4
}

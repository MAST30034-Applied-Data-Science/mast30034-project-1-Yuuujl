{
 "cells": [
  {
   "cell_type": "code",
   "execution_count": 6,
   "metadata": {},
   "outputs": [],
   "source": [
    "import numpy as np\n",
    "import scipy as sp\n",
    "import pandas as pd\n",
    "import seaborn as sns\n",
    "import matplotlib.pyplot as plt"
   ]
  },
  {
   "cell_type": "code",
   "execution_count": 7,
   "metadata": {},
   "outputs": [],
   "source": [
    "# prepro test 1\n",
    "data_path = '../data/curated/2016_6_sc.parquet'\n",
    "df = pd.read_parquet(data_path)\n",
    "date1 = f\"2016-6-01 00:00:00\"\n",
    "date2 = f\"2016-6-30 23:59:59\"\n",
    "df = df[(df[\"tpep_pickup_datetime\"] >= date1) & (df[\"tpep_pickup_datetime\"] <= date2)]\n",
    "df = df[df.trip_distance > 0]\n",
    "df = df[(df['payment_type'] == 1) | (df['payment_type'] == 2)]\n",
    "# remove all data that does not follow normal payment trend (i.e. lower than basic fare amount or negative tip amount)\n",
    "removed_df = df[(df.fare_amount >= 2.5) & (df.tip_amount >= 0)]\n",
    "# Filling tips amounts for credit cash payment\n",
    "### calculate average percentage of tip amount \n",
    "card_pmt = removed_df.loc[removed_df['payment_type'] == 1, ['tip_amount','total_amount']]\n",
    "tip_rate = (card_pmt.tip_amount/card_pmt.total_amount).mean()\n",
    "removed_df.loc[removed_df['payment_type'] == 2, 'tip_amount'] = removed_df['total_amount'] * tip_rate\n",
    "removed_df['cashtip'] = removed_df['tip_amount'] * (removed_df['payment_type']-1)\n",
    "removed_df['total_adjusted_amount'] = removed_df['cashtip']+ removed_df['total_amount']\n",
    "removed_df = removed_df.drop(['cashtip'], axis=1)\n",
    "# Calculatae income_rate as response variable\n",
    "removed_df['income_rate'] = (removed_df['total_adjusted_amount']-2.5) / removed_df['trip_distance']\n",
    "# Removing income rate outliers by 1.5IQR\n",
    "cols = ['income_rate']\n",
    "Q1 = removed_df['income_rate'].quantile(0.25)\n",
    "Q3 = removed_df['income_rate'].quantile(0.75)\n",
    "IQR = Q3 - Q1\n",
    "removed_df = removed_df[((removed_df[cols] >= (Q1 - 1.5 * IQR)) & (removed_df[cols] <= (Q3 + 1.5 * IQR))).all(axis=1)]\n",
    "after_prep_df = removed_df[['PULocationID','DOLocationID','tpep_pickup_datetime','tpep_dropoff_datetime','total_adjusted_amount','income_rate']]\n",
    "date = after_prep_df['tpep_pickup_datetime'].dt.date\n",
    "after_prep_df[\"date\"] = date        \n",
    "agg_df = after_prep_df.groupby(['PULocationID','date']).agg({'PULocationID':'first','income_rate':'mean','total_adjusted_amount':'mean'})\n",
    "agg_df = agg_df.drop(['PULocationID'], axis=1)\n",
    "agg_df = agg_df.reset_index()\n",
    "agg_df.to_csv('../data/curated/'+'cleaned_data_1.csv', index = False)\n"
   ]
  },
  {
   "cell_type": "code",
   "execution_count": null,
   "metadata": {},
   "outputs": [],
   "source": []
  },
  {
   "cell_type": "code",
   "execution_count": 8,
   "metadata": {},
   "outputs": [],
   "source": [
    "import calendar\n",
    "import datetime\n",
    "for year in [2016]:\n",
    "    for month in range(7,12+1):\n",
    "        data_path = '../data/curated/' + str(year) + '_' + str(month) + '_sc.parquet'\n",
    "        df = pd.read_parquet(data_path)\n",
    "        date1 = datetime.datetime(year=year, month=month, day=1)\n",
    "        date2 = datetime.datetime(year=year, month=month, day=calendar.monthrange(year, month)[1],hour = 23, minute = 59, second = 59)\n",
    "        \n",
    "        df = df[(df[\"tpep_pickup_datetime\"] >= date1) & (df[\"tpep_pickup_datetime\"] <= date2)]\n",
    "        df = df[df.trip_distance > 0]\n",
    "        df = df[(df['payment_type'] == 1) | (df['payment_type'] == 2)]\n",
    "        # remove all data that does not follow normal payment trend (i.e. lower than basic fare amount or negative tip amount)\n",
    "        removed_df = df[(df.fare_amount >= 2.5) & (df.tip_amount >= 0)]\n",
    "        # Filling tips amounts for credit cash payment\n",
    "        ### calculate average percentage of tip amount \n",
    "        card_pmt = removed_df.loc[removed_df['payment_type'] == 1, ['tip_amount','total_amount']]\n",
    "        tip_rate = (card_pmt.tip_amount/card_pmt.total_amount).mean()\n",
    "        removed_df.loc[removed_df['payment_type'] == 2, 'tip_amount'] = removed_df['total_amount'] * tip_rate\n",
    "        removed_df['cashtip'] = removed_df['tip_amount'] * (removed_df['payment_type']-1)\n",
    "        removed_df['total_adjusted_amount'] = removed_df['cashtip']+ removed_df['total_amount']\n",
    "        removed_df = removed_df.drop(['cashtip'], axis=1)\n",
    "        # Calculatae income_rate as response variable\n",
    "        removed_df['income_rate'] = (removed_df['total_adjusted_amount']-2.5) / removed_df['trip_distance']\n",
    "        # Removing income rate outliers by 1.5IQR\n",
    "        cols = ['income_rate']\n",
    "        Q1 = removed_df['income_rate'].quantile(0.25)\n",
    "        Q3 = removed_df['income_rate'].quantile(0.75)\n",
    "        IQR = Q3 - Q1\n",
    "        removed_df = removed_df[((removed_df[cols] >= (Q1 - 1.5 * IQR)) & (removed_df[cols] <= (Q3 + 1.5 * IQR))).all(axis=1)]\n",
    "        after_prep_df = removed_df[['PULocationID','DOLocationID','tpep_pickup_datetime','tpep_dropoff_datetime','total_adjusted_amount','income_rate']]\n",
    "        date = after_prep_df['tpep_pickup_datetime'].dt.date\n",
    "        after_prep_df[\"date\"] = date        \n",
    "        agg_df = after_prep_df.groupby(['PULocationID','date']).agg({'PULocationID':'first','income_rate':'mean','total_adjusted_amount':'mean'})\n",
    "        agg_df = agg_df.drop(['PULocationID'], axis=1)\n",
    "        agg_df = agg_df.reset_index()\n",
    "        agg_df.to_csv('../data/curated/cleaned_data_1.csv', mode = 'a',header = False, index = False)\n",
    "        "
   ]
  },
  {
   "cell_type": "code",
   "execution_count": 10,
   "metadata": {},
   "outputs": [],
   "source": [
    "import calendar\n",
    "import datetime\n",
    "for year in range(2017,2019):\n",
    "    for month in [1, 2, 11, 12]:\n",
    "        data_path = '../data/curated/' + str(year) + '_' + str(month) + '_sc.parquet'\n",
    "        df = pd.read_parquet(data_path)\n",
    "        date1 = datetime.datetime(year=year, month=month, day=1)\n",
    "        date2 = datetime.datetime(year=year, month=month, day=calendar.monthrange(year, month)[1],hour = 23, minute = 59, second = 59)\n",
    "        \n",
    "        df = df[(df[\"tpep_pickup_datetime\"] >= date1) & (df[\"tpep_pickup_datetime\"] <= date2)]\n",
    "        df = df[df.trip_distance > 0]\n",
    "        df = df[(df['payment_type'] == 1) | (df['payment_type'] == 2)]\n",
    "        # remove all data that does not follow normal payment trend (i.e. lower than basic fare amount or negative tip amount)\n",
    "        removed_df = df[(df.fare_amount >= 2.5) & (df.tip_amount >= 0)]\n",
    "        # Filling tips amounts for credit cash payment\n",
    "        ### calculate average percentage of tip amount \n",
    "        card_pmt = removed_df.loc[removed_df['payment_type'] == 1, ['tip_amount','total_amount']]\n",
    "        tip_rate = (card_pmt.tip_amount/card_pmt.total_amount).mean()\n",
    "        removed_df.loc[removed_df['payment_type'] == 2, 'tip_amount'] = removed_df['total_amount'] * tip_rate\n",
    "        removed_df['cashtip'] = removed_df['tip_amount'] * (removed_df['payment_type']-1)\n",
    "        removed_df['total_adjusted_amount'] = removed_df['cashtip']+ removed_df['total_amount']\n",
    "        removed_df = removed_df.drop(['cashtip'], axis=1)\n",
    "        # Calculatae income_rate as response variable\n",
    "        removed_df['income_rate'] = (removed_df['total_adjusted_amount']-2.5) / removed_df['trip_distance']\n",
    "        # Removing income rate outliers by 1.5IQR\n",
    "        cols = ['income_rate']\n",
    "        Q1 = removed_df['income_rate'].quantile(0.25)\n",
    "        Q3 = removed_df['income_rate'].quantile(0.75)\n",
    "        IQR = Q3 - Q1\n",
    "        removed_df = removed_df[((removed_df[cols] >= (Q1 - 1.5 * IQR)) & (removed_df[cols] <= (Q3 + 1.5 * IQR))).all(axis=1)]\n",
    "        after_prep_df = removed_df[['PULocationID','DOLocationID','tpep_pickup_datetime','tpep_dropoff_datetime','total_adjusted_amount','income_rate']]\n",
    "        date = after_prep_df['tpep_pickup_datetime'].dt.date\n",
    "        after_prep_df[\"date\"] = date        \n",
    "        agg_df = after_prep_df.groupby(['PULocationID','date']).agg({'PULocationID':'first','income_rate':'mean','total_adjusted_amount':'mean'})\n",
    "        agg_df = agg_df.drop(['PULocationID'], axis=1)\n",
    "        agg_df = agg_df.reset_index()\n",
    "        agg_df.to_csv('../data/curated/cleaned_data_1.csv', mode = 'a',header = False, index = False)\n",
    "        "
   ]
  },
  {
   "cell_type": "code",
   "execution_count": 9,
   "metadata": {},
   "outputs": [
    {
     "name": "stdout",
     "output_type": "stream",
     "text": [
      "../data/curated/2017_1_sc.parquet\n",
      "../data/curated/2017_2_sc.parquet\n",
      "../data/curated/2017_11_sc.parquet\n",
      "../data/curated/2017_12_sc.parquet\n",
      "../data/curated/2018_1_sc.parquet\n",
      "../data/curated/2018_2_sc.parquet\n",
      "../data/curated/2018_11_sc.parquet\n",
      "../data/curated/2018_12_sc.parquet\n"
     ]
    }
   ],
   "source": [
    "for year in range(2017, 2018+1):\n",
    "    for month in [1, 2, 11, 12]:\n",
    "        print('../data/curated/' + str(year) + '_' + str(month) + '_sc.parquet')"
   ]
  },
  {
   "cell_type": "code",
   "execution_count": null,
   "metadata": {},
   "outputs": [],
   "source": []
  }
 ],
 "metadata": {
  "kernelspec": {
   "display_name": "Python 3 (Anaconda 3)",
   "language": "python",
   "name": "python3"
  },
  "language_info": {
   "codemirror_mode": {
    "name": "ipython",
    "version": 3
   },
   "file_extension": ".py",
   "mimetype": "text/x-python",
   "name": "python",
   "nbconvert_exporter": "python",
   "pygments_lexer": "ipython3",
   "version": "3.8.2"
  }
 },
 "nbformat": 4,
 "nbformat_minor": 4
}

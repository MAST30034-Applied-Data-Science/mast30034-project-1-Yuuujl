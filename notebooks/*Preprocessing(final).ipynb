{
 "cells": [
  {
   "cell_type": "code",
   "execution_count": 1,
   "metadata": {},
   "outputs": [],
   "source": [
    "import numpy as np\n",
    "import scipy as sp\n",
    "import pandas as pd\n",
    "import seaborn as sns\n",
    "import matplotlib.pyplot as plt"
   ]
  },
  {
   "cell_type": "code",
   "execution_count": 2,
   "metadata": {},
   "outputs": [
    {
     "name": "stderr",
     "output_type": "stream",
     "text": [
      "/opt/miniconda3/lib/python3.8/site-packages/pandas/core/indexing.py:1773: SettingWithCopyWarning: \n",
      "A value is trying to be set on a copy of a slice from a DataFrame.\n",
      "Try using .loc[row_indexer,col_indexer] = value instead\n",
      "\n",
      "See the caveats in the documentation: https://pandas.pydata.org/pandas-docs/stable/user_guide/indexing.html#returning-a-view-versus-a-copy\n",
      "  self._setitem_single_column(ilocs[0], value, pi)\n",
      "/opt/miniconda3/lib/python3.8/site-packages/pandas/core/frame.py:3607: SettingWithCopyWarning: \n",
      "A value is trying to be set on a copy of a slice from a DataFrame.\n",
      "Try using .loc[row_indexer,col_indexer] = value instead\n",
      "\n",
      "See the caveats in the documentation: https://pandas.pydata.org/pandas-docs/stable/user_guide/indexing.html#returning-a-view-versus-a-copy\n",
      "  self._set_item(key, value)\n"
     ]
    }
   ],
   "source": [
    "# prepro test 1\n",
    "data_path = '../data/curated/2016_12_sc.parquet'\n",
    "df = pd.read_parquet(data_path)\n",
    "date1 = f\"2016-12-01 00:00:00\"\n",
    "date2 = f\"2016-12-30 23:59:59\"\n",
    "df = df[(df[\"tpep_pickup_datetime\"] >= date1) & (df[\"tpep_pickup_datetime\"] <= date2)]\n",
    "df = df[df.trip_distance > 0]\n",
    "df = df[(df['payment_type'] == 1) | (df['payment_type'] == 2)]\n",
    "# remove all data that does not follow normal payment trend (i.e. lower than basic fare amount or negative tip amount)\n",
    "removed_df = df[(df.fare_amount >= 2.5) & (df.tip_amount >= 0)]\n",
    "# Filling tips amounts for credit cash payment\n",
    "### calculate average percentage of tip amount \n",
    "card_pmt = removed_df.loc[removed_df['payment_type'] == 1, ['tip_amount','total_amount']]\n",
    "tip_rate = (card_pmt.tip_amount/card_pmt.total_amount).mean()\n",
    "removed_df.loc[removed_df['payment_type'] == 2, 'tip_amount'] = removed_df['total_amount'] * tip_rate\n",
    "removed_df['cashtip'] = removed_df['tip_amount'] * (removed_df['payment_type']-1)\n",
    "removed_df['total_adjusted_amount'] = removed_df['cashtip']+ removed_df['total_amount']\n",
    "removed_df = removed_df.drop(['cashtip'], axis=1)\n",
    "# Calculatae income_rate as response variable\n",
    "removed_df['income_rate'] = (removed_df['total_adjusted_amount']-2.5) / removed_df['trip_distance']\n"
   ]
  },
  {
   "cell_type": "code",
   "execution_count": 4,
   "metadata": {},
   "outputs": [
    {
     "data": {
      "image/png": "[encoded data removed]",
      "text/plain": [
       "<Figure size 1080x360 with 4 Axes>"
      ]
     },
     "metadata": {
      "needs_background": "light"
     },
     "output_type": "display_data"
    }
   ],
   "source": [
    "# Removing income rate outliers by 1.5IQR\n",
    "cols = ['income_rate']\n",
    "Q0 = removed_df[cols].quantile(0.05)\n",
    "Q1 = removed_df[cols].quantile(0.25)\n",
    "Q3 = removed_df[cols].quantile(0.75)\n",
    "Q4 = removed_df[cols].quantile(0.95)\n",
    "IQR = Q4 - Q0\n",
    "removed_df = removed_df[((removed_df[cols] >= (Q0 - 1.5 * IQR)) & (removed_df[cols] <= (Q4 + 1.5 * IQR))).all(axis=1)]\n",
    "# boxplot of three numerical values\n",
    "cols = ['income_rate', 'fare_amount', 'tip_amount','total_adjusted_amount']\n",
    "fig, axs = plt.subplots(1, 4, figsize=(15,5))\n",
    "for i in range(4):\n",
    "    axs[i].boxplot(removed_df[cols[i]])\n",
    "    axs[i].set_xlabel(cols[i])\n",
    "plt.show()"
   ]
  },
  {
   "cell_type": "code",
   "execution_count": null,
   "metadata": {},
   "outputs": [],
   "source": [
    "# Removing income rate outliers by 1.5IQR\n",
    "cols = ['income_rate']\n",
    "Q1 = removed_df['income_rate'].quantile(0.25)\n",
    "Q3 = removed_df['income_rate'].quantile(0.75)\n",
    "IQR = Q3 - Q1\n",
    "removed_df = removed_df[((removed_df[cols] >= (Q1 - 1.5 * IQR)) & (removed_df[cols] <= (Q3 + 1.5 * IQR))).all(axis=1)]\n",
    "after_prep_df = removed_df[['PULocationID','DOLocationID','tpep_pickup_datetime','tpep_dropoff_datetime','total_adjusted_amount','income_rate']]\n",
    "date = after_prep_df['tpep_pickup_datetime'].dt.date\n",
    "after_prep_df[\"date\"] = date        \n",
    "agg_df = after_prep_df.groupby(['PULocationID','date']).agg({'PULocationID':'first','income_rate':'mean','total_adjusted_amount':'mean'})\n",
    "agg_df = agg_df.drop(['PULocationID'], axis=1)\n",
    "agg_df = agg_df.reset_index()\n",
    "agg_df.to_csv('../data/curated/'+'cleaned_data.csv', index = False)\n"
   ]
  },
  {
   "cell_type": "code",
   "execution_count": 3,
   "metadata": {},
   "outputs": [],
   "source": [
    "import calendar\n",
    "import datetime\n",
    "for year in range(2017, 2018+1):\n",
    "    for month in [1, 2, 11, 12]:\n",
    "        data_path = '../data/curated/' + str(year) + '_' + str(month) + '_sc.parquet'\n",
    "        df = pd.read_parquet(data_path)\n",
    "        date1 = datetime.datetime(year=year, month=month, day=1)\n",
    "        date2 = datetime.datetime(year=year, month=month, day=calendar.monthrange(year, month)[1],hour = 23, minute = 59, second = 59)\n",
    "        \n",
    "        df = df[(df[\"tpep_pickup_datetime\"] >= date1) & (df[\"tpep_pickup_datetime\"] <= date2)]\n",
    "        df = df[df.trip_distance > 0]\n",
    "        df = df[(df['payment_type'] == 1) | (df['payment_type'] == 2)]\n",
    "        # remove all data that does not follow normal payment trend (i.e. lower than basic fare amount or negative tip amount)\n",
    "        removed_df = df[(df.fare_amount >= 2.5) & (df.tip_amount >= 0)]\n",
    "        # Filling tips amounts for credit cash payment\n",
    "        ### calculate average percentage of tip amount \n",
    "        card_pmt = removed_df.loc[removed_df['payment_type'] == 1, ['tip_amount','total_amount']]\n",
    "        tip_rate = (card_pmt.tip_amount/card_pmt.total_amount).mean()\n",
    "        removed_df.loc[removed_df['payment_type'] == 2, 'tip_amount'] = removed_df['total_amount'] * tip_rate\n",
    "        removed_df['cashtip'] = removed_df['tip_amount'] * (removed_df['payment_type']-1)\n",
    "        removed_df['total_adjusted_amount'] = removed_df['cashtip']+ removed_df['total_amount']\n",
    "        removed_df = removed_df.drop(['cashtip'], axis=1)\n",
    "        # Calculatae income_rate as response variable\n",
    "        removed_df['income_rate'] = (removed_df['total_adjusted_amount']-2.5) / removed_df['trip_distance']\n",
    "        # Removing income rate outliers by 1.5IQR\n",
    "        cols = ['income_rate']\n",
    "        Q1 = removed_df['income_rate'].quantile(0.25)\n",
    "        Q3 = removed_df['income_rate'].quantile(0.75)\n",
    "        IQR = Q3 - Q1\n",
    "        removed_df = removed_df[((removed_df[cols] >= (Q1 - 1.5 * IQR)) & (removed_df[cols] <= (Q3 + 1.5 * IQR))).all(axis=1)]\n",
    "        after_prep_df = removed_df[['PULocationID','DOLocationID','tpep_pickup_datetime','tpep_dropoff_datetime','total_adjusted_amount','income_rate']]\n",
    "        date = after_prep_df['tpep_pickup_datetime'].dt.date\n",
    "        after_prep_df[\"date\"] = date        \n",
    "        agg_df = after_prep_df.groupby(['PULocationID','date']).agg({'PULocationID':'first','income_rate':'mean','total_adjusted_amount':'mean'})\n",
    "        agg_df = agg_df.drop(['PULocationID'], axis=1)\n",
    "        agg_df = agg_df.reset_index()\n",
    "        agg_df.to_csv('../data/curated/cleaned_data.csv', mode = 'a',header = False, index = False)\n",
    "        "
   ]
  },
  {
   "cell_type": "code",
   "execution_count": null,
   "metadata": {},
   "outputs": [],
   "source": []
  },
  {
   "cell_type": "code",
   "execution_count": 4,
   "metadata": {},
   "outputs": [
    {
     "name": "stdout",
     "output_type": "stream",
     "text": [
      "../data/curated/2017_1_sc.parquet\n",
      "../data/curated/2017_2_sc.parquet\n",
      "../data/curated/2017_11_sc.parquet\n",
      "../data/curated/2017_12_sc.parquet\n",
      "../data/curated/2018_1_sc.parquet\n",
      "../data/curated/2018_2_sc.parquet\n",
      "../data/curated/2018_11_sc.parquet\n",
      "../data/curated/2018_12_sc.parquet\n"
     ]
    }
   ],
   "source": [
    "for year in range(2017, 2018+1):\n",
    "    for month in [1, 2, 11, 12]:\n",
    "        print('../data/curated/' + str(year) + '_' + str(month) + '_sc.parquet')"
   ]
  },
  {
   "cell_type": "code",
   "execution_count": null,
   "metadata": {},
   "outputs": [],
   "source": []
  }
 ],
 "metadata": {
  "kernelspec": {
   "display_name": "Python 3 (Anaconda 3)",
   "language": "python",
   "name": "python3"
  },
  "language_info": {
   "codemirror_mode": {
    "name": "ipython",
    "version": 3
   },
   "file_extension": ".py",
   "mimetype": "text/x-python",
   "name": "python",
   "nbconvert_exporter": "python",
   "pygments_lexer": "ipython3",
   "version": "3.8.2"
  }
 },
 "nbformat": 4,
 "nbformat_minor": 4
}

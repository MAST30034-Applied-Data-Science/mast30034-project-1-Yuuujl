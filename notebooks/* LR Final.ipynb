{
 "cells": [
  {
   "cell_type": "code",
   "execution_count": null,
   "metadata": {},
   "outputs": [],
   "source": [
    "import numpy as np\n",
    "import scipy as sp\n",
    "import pandas as pd\n",
    "import seaborn as sns\n",
    "import matplotlib.pyplot as plt\n",
    "from statsmodels.formula.api import gls"
   ]
  },
  {
   "cell_type": "code",
   "execution_count": null,
   "metadata": {},
   "outputs": [],
   "source": [
    "X_train = pd.read_csv('../data/curated/X_train').iloc[:,2:]\n",
    "y_train = pd.read_csv('../data/curated/y_train').iloc[:,1:]\n",
    "X_val = pd.read_csv('../data/curated/X_val').iloc[:,2:]\n",
    "y_val = pd.read_csv('../data/curated/y_val').iloc[:,1:]\n",
    "X_test = pd.read_csv('../data/curated/X_test').iloc[:,2:]\n",
    "y_test = pd.read_csv('../data/curated/y_test').iloc[:,1:]"
   ]
  },
  {
   "cell_type": "code",
   "execution_count": null,
   "metadata": {},
   "outputs": [],
   "source": [
    "train = pd.merge(X_train, y_train, left_index=True, right_index=True)\n",
    "val = pd.merge(X_val, y_val, left_index=True, right_index=True)\n",
    "test = pd.merge(X_test, y_test, left_index=True, right_index=True)"
   ]
  },
  {
   "cell_type": "code",
   "execution_count": null,
   "metadata": {},
   "outputs": [],
   "source": [
    "train = train[train['income_rate'] > 0.00]\n",
    "train['inv_ir'] = 1/train['income_rate']"
   ]
  },
  {
   "cell_type": "code",
   "execution_count": null,
   "metadata": {},
   "outputs": [],
   "source": [
    "# use features after feature selection with F-test\n",
    "cols = ['income_rate','total_adjusted_amount','trip_distance','fare_amount','tip_amount','precipcover','humidity','cloudcover',\n",
    "'visibility']"
   ]
  },
  {
   "cell_type": "code",
   "execution_count": null,
   "metadata": {},
   "outputs": [],
   "source": [
    "# remove some large numbers to see a more clear pattern\n",
    "train = train[train['income_rate']<10]\n",
    "train.count()"
   ]
  },
  {
   "cell_type": "code",
   "execution_count": null,
   "metadata": {},
   "outputs": [],
   "source": [
    "sns.set(style=\"ticks\", color_codes=True)\n",
    "g = sns.pairplot(train[cols], plot_kws=dict(s=1, edgecolor=\"b\", linewidth=1),)"
   ]
  },
  {
   "cell_type": "code",
   "execution_count": null,
   "metadata": {},
   "outputs": [],
   "source": [
    "# Pearson correlation coefficient\n",
    "sns.heatmap(train[cols].corr())\n",
    "plt.title('Pearson Correlation Metric')\n",
    "plt.show()"
   ]
  },
  {
   "cell_type": "code",
   "execution_count": null,
   "metadata": {},
   "outputs": [],
   "source": [
    "# since heteroskedasticity \n",
    "fit1 = gls(\n",
    "    formula=\"income_rate ~ total_adjusted_amount+trip_distance+fare_amount+tip_amount+precipcover+humidity+cloudcover+visibility\",\n",
    "    data=train\n",
    ").fit()"
   ]
  },
  {
   "cell_type": "code",
   "execution_count": null,
   "metadata": {},
   "outputs": [],
   "source": [
    "# checking heteroskedasticity\n",
    "train_pred = fit1.fittedvalues.copy()\n",
    "train_true = train['income_rate'].values.copy()\n",
    "residual = train_true - train_pred\n",
    "fig, ax = plt.subplots()\n",
    "ax.scatter(train_pred, residual)\n",
    "plt.show()"
   ]
  },
  {
   "cell_type": "code",
   "execution_count": null,
   "metadata": {},
   "outputs": [],
   "source": [
    "fit1.summary()"
   ]
  },
  {
   "cell_type": "code",
   "execution_count": null,
   "metadata": {},
   "outputs": [],
   "source": [
    "plt.scatter(np.log(train['total_adjusted_amount']), train['income_rate'])\n",
    "train['log_taa'] = np.log(train['total_adjusted_amount'])"
   ]
  },
  {
   "cell_type": "code",
   "execution_count": null,
   "metadata": {},
   "outputs": [],
   "source": [
    "plt.scatter(np.log(train['trip_distance']), train['income_rate'])\n",
    "train['log_td'] = np.log(train['trip_distance'])"
   ]
  },
  {
   "cell_type": "code",
   "execution_count": null,
   "metadata": {},
   "outputs": [],
   "source": [
    "plt.scatter(np.log(train['tip_amount']), train['income_rate'])\n",
    "train['log_ta'] = np.log(train['tip_amount'])"
   ]
  },
  {
   "cell_type": "code",
   "execution_count": null,
   "metadata": {},
   "outputs": [],
   "source": [
    "plt.scatter(np.log(train['fare_amount']), train['income_rate'])\n",
    "train['log_fa'] = np.log(train['fare_amount'])"
   ]
  },
  {
   "cell_type": "code",
   "execution_count": null,
   "metadata": {},
   "outputs": [],
   "source": [
    "fit2 = gls(\n",
    "    formula=\"income_rate ~ log_taa+log_td+log_fa+log_ta+precipcover+humidity+cloudcover+visibility\",\n",
    "    data=train\n",
    ").fit()"
   ]
  },
  {
   "cell_type": "code",
   "execution_count": null,
   "metadata": {},
   "outputs": [],
   "source": [
    "fit2.summary()"
   ]
  },
  {
   "cell_type": "code",
   "execution_count": null,
   "metadata": {},
   "outputs": [],
   "source": [
    "# decide to use fit1\n",
    "cols1 = ['total_adjusted_amount','trip_distance','fare_amount','tip_amount','precipcover','humidity','cloudcover',\n",
    "'visibility']\n",
    "train_predictions = fit1.predict(train[cols1])\n",
    "val_predictions = fit1.predict(val[cols1])\n",
    "test_predictions = fit1.predict(test[cols1])"
   ]
  },
  {
   "cell_type": "code",
   "execution_count": null,
   "metadata": {},
   "outputs": [],
   "source": [
    "# calculate r square for validation set\n",
    "import numpy as np\n",
    "import math\n",
    "corr_matrix_train = np.corrcoef(train['income_rate'], train_predictions)\n",
    "corr_train = corr_matrix_train[0,1]\n",
    "R_sq_train = corr_train**2\n",
    "MSE_train = np.square(np.subtract(train['income_rate'],train_predictions)).mean()"
   ]
  },
  {
   "cell_type": "code",
   "execution_count": null,
   "metadata": {},
   "outputs": [],
   "source": [
    "print(\"r2_score for training set: {:.3f}\".format(R_sq_train))\n",
    "print(\"RMSE for training set: {:.3f}\".format(math.sqrt(MSE_train)))"
   ]
  },
  {
   "cell_type": "code",
   "execution_count": null,
   "metadata": {},
   "outputs": [],
   "source": [
    "# calculate r square for validation set\n",
    "corr_matrix_val = np.corrcoef(val['income_rate'], val_predictions)\n",
    "corr_val = corr_matrix_val[0,1]\n",
    "R_sq_val = corr_val**2\n",
    "MSE_val = np.square(np.subtract(val['income_rate'],val_predictions)).mean()"
   ]
  },
  {
   "cell_type": "code",
   "execution_count": null,
   "metadata": {},
   "outputs": [],
   "source": [
    "print(\"r2_score for validation set: {:.3f}\".format(R_sq_val))\n",
    "print(\"RMSE for validation set: {:.3f}\".format(math.sqrt(MSE_val)))"
   ]
  },
  {
   "cell_type": "code",
   "execution_count": null,
   "metadata": {},
   "outputs": [],
   "source": [
    "# calculate r square for test set\n",
    "corr_matrix_test = np.corrcoef(test['income_rate'], test_predictions)\n",
    "corr_test = corr_matrix_test[0,1]\n",
    "R_sq_test = corr_test**2\n",
    "MSE_test = np.square(np.subtract(test['income_rate'],test_predictions)).mean()"
   ]
  },
  {
   "cell_type": "code",
   "execution_count": null,
   "metadata": {},
   "outputs": [],
   "source": [
    "print(\"r2_score for testing set: {:.3f}\".format(R_sq_test))\n",
    "print(\"RMSE for testing set: {:.3f}\".format(math.sqrt(MSE_test)))"
   ]
  },
  {
   "cell_type": "code",
   "execution_count": null,
   "metadata": {},
   "outputs": [],
   "source": [
    "test_predictions.to_csv('../data/curated/LR_test_prediction.csv')"
   ]
  },
  {
   "cell_type": "code",
   "execution_count": 51,
   "metadata": {
    "scrolled": true
   },
   "outputs": [
    {
     "data": {
      "image/png": "[encoded data removed]",
      "text/plain": [
       "<Figure size 432x288 with 1 Axes>"
      ]
     },
     "metadata": {},
     "output_type": "display_data"
    }
   ],
   "source": [
    "# normality distribution check\n",
    "fig, ax = plt.subplots()\n",
    "sp.stats.probplot(residual, plot=ax, fit=True)\n",
    "plt.show()"
   ]
  },
  {
   "cell_type": "code",
   "execution_count": null,
   "metadata": {},
   "outputs": [],
   "source": []
  }
 ],
 "metadata": {
  "kernelspec": {
   "display_name": "Python 3 (Anaconda 3)",
   "language": "python",
   "name": "python3"
  },
  "language_info": {
   "codemirror_mode": {
    "name": "ipython",
    "version": 3
   },
   "file_extension": ".py",
   "mimetype": "text/x-python",
   "name": "python",
   "nbconvert_exporter": "python",
   "pygments_lexer": "ipython3",
   "version": "3.8.2"
  }
 },
 "nbformat": 4,
 "nbformat_minor": 4
}

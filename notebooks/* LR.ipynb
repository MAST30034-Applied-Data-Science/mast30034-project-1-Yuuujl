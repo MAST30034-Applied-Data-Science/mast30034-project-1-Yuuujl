{
 "cells": [
  {
   "cell_type": "code",
   "execution_count": 5,
   "metadata": {},
   "outputs": [],
   "source": [
    "import numpy as np\n",
    "import scipy as sp\n",
    "import pandas as pd\n",
    "import seaborn as sns\n",
    "import matplotlib.pyplot as plt\n",
    "from statsmodels.formula.api import ols\n",
    "from sklearn.linear_model import LinearRegression"
   ]
  },
  {
   "cell_type": "code",
   "execution_count": 11,
   "metadata": {},
   "outputs": [],
   "source": [
    "X_train = pd.read_csv('../data/curated/X_train').iloc[:,2:]\n",
    "y_train = pd.read_csv('../data/curated/y_train').iloc[:,1:]\n",
    "X_val = pd.read_csv('../data/curated/X_val').iloc[:,2:]\n",
    "y_val = pd.read_csv('../data/curated/y_val').iloc[:,1:]\n",
    "X_test = pd.read_csv('../data/curated/X_test').iloc[:,2:]\n",
    "y_test = pd.read_csv('../data/curated/y_test').iloc[:,1:]\n",
    "df = pf.read"
   ]
  },
  {
   "cell_type": "code",
   "execution_count": 13,
   "metadata": {},
   "outputs": [
    {
     "data": {
      "text/plain": [
       "Index(['total_adjusted_amount', 'trip_distance', 'fare_amount', 'tip_amount',\n",
       "       'tempmin', 'tempmax', 'temp', 'precip', 'precipcover', 'windgust',\n",
       "       'windspeed', 'dew', 'humidity', 'snow', 'snowdepth', 'cloudcover',\n",
       "       'visibility'],\n",
       "      dtype='object')"
      ]
     },
     "execution_count": 13,
     "metadata": {},
     "output_type": "execute_result"
    }
   ],
   "source": [
    "X_train.columns"
   ]
  },
  {
   "cell_type": "code",
   "execution_count": 14,
   "metadata": {},
   "outputs": [],
   "source": [
    "# use features after feature selection with F-test\n",
    "cols = ['total_adjusted_amount','trip_distance','fare_amount','tip_amount','precipcover','humidity','cloudcover',\n",
    "'visibility']"
   ]
  },
  {
   "cell_type": "code",
   "execution_count": 15,
   "metadata": {},
   "outputs": [
    {
     "ename": "NameError",
     "evalue": "name 'df' is not defined",
     "output_type": "error",
     "traceback": [
      "\u001b[0;31m---------------------------------------------------------------------------\u001b[0m",
      "\u001b[0;31mNameError\u001b[0m                                 Traceback (most recent call last)",
      "\u001b[0;32m/tmp/ipykernel_350189/1503955787.py\u001b[0m in \u001b[0;36m<module>\u001b[0;34m\u001b[0m\n\u001b[0;32m----> 1\u001b[0;31m \u001b[0msample\u001b[0m \u001b[0;34m=\u001b[0m \u001b[0mdf\u001b[0m\u001b[0;34m.\u001b[0m\u001b[0msample\u001b[0m\u001b[0;34m(\u001b[0m\u001b[0mn\u001b[0m\u001b[0;34m=\u001b[0m\u001b[0;36m30000\u001b[0m\u001b[0;34m,\u001b[0m \u001b[0mrandom_state\u001b[0m\u001b[0;34m=\u001b[0m\u001b[0;36m30034\u001b[0m\u001b[0;34m)\u001b[0m\u001b[0;34m\u001b[0m\u001b[0;34m\u001b[0m\u001b[0m\n\u001b[0m",
      "\u001b[0;31mNameError\u001b[0m: name 'df' is not defined"
     ]
    }
   ],
   "source": [
    "sample = .sample(n=30000, random_state=30034)"
   ]
  },
  {
   "cell_type": "code",
   "execution_count": null,
   "metadata": {},
   "outputs": [],
   "source": []
  },
  {
   "cell_type": "code",
   "execution_count": null,
   "metadata": {},
   "outputs": [],
   "source": []
  },
  {
   "cell_type": "code",
   "execution_count": null,
   "metadata": {},
   "outputs": [],
   "source": []
  },
  {
   "cell_type": "code",
   "execution_count": null,
   "metadata": {},
   "outputs": [],
   "source": []
  },
  {
   "cell_type": "code",
   "execution_count": null,
   "metadata": {},
   "outputs": [],
   "source": []
  },
  {
   "cell_type": "code",
   "execution_count": null,
   "metadata": {},
   "outputs": [],
   "source": []
  },
  {
   "cell_type": "code",
   "execution_count": null,
   "metadata": {},
   "outputs": [],
   "source": []
  },
  {
   "cell_type": "code",
   "execution_count": null,
   "metadata": {},
   "outputs": [],
   "source": []
  },
  {
   "cell_type": "code",
   "execution_count": null,
   "metadata": {},
   "outputs": [],
   "source": []
  },
  {
   "cell_type": "code",
   "execution_count": null,
   "metadata": {},
   "outputs": [],
   "source": []
  },
  {
   "cell_type": "code",
   "execution_count": null,
   "metadata": {},
   "outputs": [],
   "source": []
  },
  {
   "cell_type": "code",
   "execution_count": null,
   "metadata": {},
   "outputs": [],
   "source": []
  },
  {
   "cell_type": "code",
   "execution_count": null,
   "metadata": {},
   "outputs": [],
   "source": []
  },
  {
   "cell_type": "code",
   "execution_count": 3,
   "metadata": {},
   "outputs": [
    {
     "name": "stdout",
     "output_type": "stream",
     "text": [
      "0.5017157015472671 -615.8118263126503 -1259.7480516182281\n"
     ]
    }
   ],
   "source": [
    "lr = LinearRegression()\n",
    "lr.fit(X_train,y_train)\n",
    "training_score = lr.score(X_train,y_train)\n",
    "validation_score = lr.score(X_val,y_val)\n",
    "testing_score = lr.score(X_test,y_test)\n",
    "print(training_score,validation_score,testing_score)"
   ]
  },
  {
   "cell_type": "code",
   "execution_count": 4,
   "metadata": {},
   "outputs": [
    {
     "data": {
      "text/html": [
       "<div>\n",
       "<style scoped>\n",
       "    .dataframe tbody tr th:only-of-type {\n",
       "        vertical-align: middle;\n",
       "    }\n",
       "\n",
       "    .dataframe tbody tr th {\n",
       "        vertical-align: top;\n",
       "    }\n",
       "\n",
       "    .dataframe thead th {\n",
       "        text-align: right;\n",
       "    }\n",
       "</style>\n",
       "<table border=\"1\" class=\"dataframe\">\n",
       "  <thead>\n",
       "    <tr style=\"text-align: right;\">\n",
       "      <th></th>\n",
       "      <th>PULocationID</th>\n",
       "      <th>total_adjusted_amount</th>\n",
       "      <th>trip_distance</th>\n",
       "      <th>fare_amount</th>\n",
       "      <th>tip_amount</th>\n",
       "      <th>temp</th>\n",
       "      <th>dew</th>\n",
       "      <th>humidity</th>\n",
       "      <th>snow</th>\n",
       "      <th>snowdepth</th>\n",
       "      <th>cloudcover</th>\n",
       "      <th>visibility</th>\n",
       "    </tr>\n",
       "  </thead>\n",
       "  <tbody>\n",
       "    <tr>\n",
       "      <th>0</th>\n",
       "      <td>1</td>\n",
       "      <td>2.746215</td>\n",
       "      <td>-2.653326</td>\n",
       "      <td>4.834426</td>\n",
       "      <td>-3.092117</td>\n",
       "      <td>0.354648</td>\n",
       "      <td>-0.175182</td>\n",
       "      <td>-0.984531</td>\n",
       "      <td>-0.363565</td>\n",
       "      <td>-0.417114</td>\n",
       "      <td>0.046310</td>\n",
       "      <td>0.574988</td>\n",
       "    </tr>\n",
       "    <tr>\n",
       "      <th>1</th>\n",
       "      <td>4</td>\n",
       "      <td>0.387627</td>\n",
       "      <td>0.214030</td>\n",
       "      <td>0.418440</td>\n",
       "      <td>0.481019</td>\n",
       "      <td>0.354648</td>\n",
       "      <td>-0.175182</td>\n",
       "      <td>-0.984531</td>\n",
       "      <td>-0.363565</td>\n",
       "      <td>-0.417114</td>\n",
       "      <td>0.046310</td>\n",
       "      <td>0.574988</td>\n",
       "    </tr>\n",
       "    <tr>\n",
       "      <th>2</th>\n",
       "      <td>7</td>\n",
       "      <td>-0.337182</td>\n",
       "      <td>-0.098058</td>\n",
       "      <td>-0.328703</td>\n",
       "      <td>-0.176650</td>\n",
       "      <td>0.354648</td>\n",
       "      <td>-0.175182</td>\n",
       "      <td>-0.984531</td>\n",
       "      <td>-0.363565</td>\n",
       "      <td>-0.417114</td>\n",
       "      <td>0.046310</td>\n",
       "      <td>0.574988</td>\n",
       "    </tr>\n",
       "    <tr>\n",
       "      <th>3</th>\n",
       "      <td>8</td>\n",
       "      <td>0.427977</td>\n",
       "      <td>1.487276</td>\n",
       "      <td>0.664143</td>\n",
       "      <td>0.244245</td>\n",
       "      <td>0.354648</td>\n",
       "      <td>-0.175182</td>\n",
       "      <td>-0.984531</td>\n",
       "      <td>-0.363565</td>\n",
       "      <td>-0.417114</td>\n",
       "      <td>0.046310</td>\n",
       "      <td>0.574988</td>\n",
       "    </tr>\n",
       "    <tr>\n",
       "      <th>4</th>\n",
       "      <td>10</td>\n",
       "      <td>2.416245</td>\n",
       "      <td>2.706894</td>\n",
       "      <td>2.276652</td>\n",
       "      <td>1.212866</td>\n",
       "      <td>0.354648</td>\n",
       "      <td>-0.175182</td>\n",
       "      <td>-0.984531</td>\n",
       "      <td>-0.363565</td>\n",
       "      <td>-0.417114</td>\n",
       "      <td>0.046310</td>\n",
       "      <td>0.574988</td>\n",
       "    </tr>\n",
       "    <tr>\n",
       "      <th>...</th>\n",
       "      <td>...</td>\n",
       "      <td>...</td>\n",
       "      <td>...</td>\n",
       "      <td>...</td>\n",
       "      <td>...</td>\n",
       "      <td>...</td>\n",
       "      <td>...</td>\n",
       "      <td>...</td>\n",
       "      <td>...</td>\n",
       "      <td>...</td>\n",
       "      <td>...</td>\n",
       "      <td>...</td>\n",
       "    </tr>\n",
       "    <tr>\n",
       "      <th>31688</th>\n",
       "      <td>52</td>\n",
       "      <td>-0.143770</td>\n",
       "      <td>-0.455188</td>\n",
       "      <td>-0.226422</td>\n",
       "      <td>0.244245</td>\n",
       "      <td>-0.988738</td>\n",
       "      <td>-1.564998</td>\n",
       "      <td>-1.514690</td>\n",
       "      <td>-0.363565</td>\n",
       "      <td>-0.417114</td>\n",
       "      <td>-1.397815</td>\n",
       "      <td>0.574988</td>\n",
       "    </tr>\n",
       "    <tr>\n",
       "      <th>31689</th>\n",
       "      <td>54</td>\n",
       "      <td>-0.472031</td>\n",
       "      <td>-0.553551</td>\n",
       "      <td>-0.571497</td>\n",
       "      <td>-0.939625</td>\n",
       "      <td>-0.988738</td>\n",
       "      <td>-1.564998</td>\n",
       "      <td>-1.514690</td>\n",
       "      <td>-0.363565</td>\n",
       "      <td>-0.417114</td>\n",
       "      <td>-1.397815</td>\n",
       "      <td>0.574988</td>\n",
       "    </tr>\n",
       "    <tr>\n",
       "      <th>31690</th>\n",
       "      <td>55</td>\n",
       "      <td>0.705948</td>\n",
       "      <td>0.273757</td>\n",
       "      <td>1.312853</td>\n",
       "      <td>0.185279</td>\n",
       "      <td>-0.988738</td>\n",
       "      <td>-1.564998</td>\n",
       "      <td>-1.514690</td>\n",
       "      <td>-0.363565</td>\n",
       "      <td>-0.417114</td>\n",
       "      <td>-1.397815</td>\n",
       "      <td>0.574988</td>\n",
       "    </tr>\n",
       "    <tr>\n",
       "      <th>31691</th>\n",
       "      <td>56</td>\n",
       "      <td>-1.133055</td>\n",
       "      <td>-0.458014</td>\n",
       "      <td>-1.003970</td>\n",
       "      <td>-0.650792</td>\n",
       "      <td>-0.988738</td>\n",
       "      <td>-1.564998</td>\n",
       "      <td>-1.514690</td>\n",
       "      <td>-0.363565</td>\n",
       "      <td>-0.417114</td>\n",
       "      <td>-1.397815</td>\n",
       "      <td>0.574988</td>\n",
       "    </tr>\n",
       "    <tr>\n",
       "      <th>31692</th>\n",
       "      <td>61</td>\n",
       "      <td>0.547630</td>\n",
       "      <td>0.606712</td>\n",
       "      <td>0.616482</td>\n",
       "      <td>0.519707</td>\n",
       "      <td>-0.988738</td>\n",
       "      <td>-1.564998</td>\n",
       "      <td>-1.514690</td>\n",
       "      <td>-0.363565</td>\n",
       "      <td>-0.417114</td>\n",
       "      <td>-1.397815</td>\n",
       "      <td>0.574988</td>\n",
       "    </tr>\n",
       "  </tbody>\n",
       "</table>\n",
       "<p>31693 rows × 12 columns</p>\n",
       "</div>"
      ],
      "text/plain": [
       "       PULocationID  total_adjusted_amount  trip_distance  fare_amount  \\\n",
       "0                 1               2.746215      -2.653326     4.834426   \n",
       "1                 4               0.387627       0.214030     0.418440   \n",
       "2                 7              -0.337182      -0.098058    -0.328703   \n",
       "3                 8               0.427977       1.487276     0.664143   \n",
       "4                10               2.416245       2.706894     2.276652   \n",
       "...             ...                    ...            ...          ...   \n",
       "31688            52              -0.143770      -0.455188    -0.226422   \n",
       "31689            54              -0.472031      -0.553551    -0.571497   \n",
       "31690            55               0.705948       0.273757     1.312853   \n",
       "31691            56              -1.133055      -0.458014    -1.003970   \n",
       "31692            61               0.547630       0.606712     0.616482   \n",
       "\n",
       "       tip_amount      temp       dew  humidity      snow  snowdepth  \\\n",
       "0       -3.092117  0.354648 -0.175182 -0.984531 -0.363565  -0.417114   \n",
       "1        0.481019  0.354648 -0.175182 -0.984531 -0.363565  -0.417114   \n",
       "2       -0.176650  0.354648 -0.175182 -0.984531 -0.363565  -0.417114   \n",
       "3        0.244245  0.354648 -0.175182 -0.984531 -0.363565  -0.417114   \n",
       "4        1.212866  0.354648 -0.175182 -0.984531 -0.363565  -0.417114   \n",
       "...           ...       ...       ...       ...       ...        ...   \n",
       "31688    0.244245 -0.988738 -1.564998 -1.514690 -0.363565  -0.417114   \n",
       "31689   -0.939625 -0.988738 -1.564998 -1.514690 -0.363565  -0.417114   \n",
       "31690    0.185279 -0.988738 -1.564998 -1.514690 -0.363565  -0.417114   \n",
       "31691   -0.650792 -0.988738 -1.564998 -1.514690 -0.363565  -0.417114   \n",
       "31692    0.519707 -0.988738 -1.564998 -1.514690 -0.363565  -0.417114   \n",
       "\n",
       "       cloudcover  visibility  \n",
       "0        0.046310    0.574988  \n",
       "1        0.046310    0.574988  \n",
       "2        0.046310    0.574988  \n",
       "3        0.046310    0.574988  \n",
       "4        0.046310    0.574988  \n",
       "...           ...         ...  \n",
       "31688   -1.397815    0.574988  \n",
       "31689   -1.397815    0.574988  \n",
       "31690   -1.397815    0.574988  \n",
       "31691   -1.397815    0.574988  \n",
       "31692   -1.397815    0.574988  \n",
       "\n",
       "[31693 rows x 12 columns]"
      ]
     },
     "execution_count": 4,
     "metadata": {},
     "output_type": "execute_result"
    }
   ],
   "source": [
    "X_train"
   ]
  },
  {
   "cell_type": "code",
   "execution_count": 5,
   "metadata": {},
   "outputs": [
    {
     "data": {
      "text/html": [
       "<div>\n",
       "<style scoped>\n",
       "    .dataframe tbody tr th:only-of-type {\n",
       "        vertical-align: middle;\n",
       "    }\n",
       "\n",
       "    .dataframe tbody tr th {\n",
       "        vertical-align: top;\n",
       "    }\n",
       "\n",
       "    .dataframe thead th {\n",
       "        text-align: right;\n",
       "    }\n",
       "</style>\n",
       "<table border=\"1\" class=\"dataframe\">\n",
       "  <thead>\n",
       "    <tr style=\"text-align: right;\">\n",
       "      <th></th>\n",
       "      <th>income_rate</th>\n",
       "    </tr>\n",
       "  </thead>\n",
       "  <tbody>\n",
       "    <tr>\n",
       "      <th>0</th>\n",
       "      <td>23.368421</td>\n",
       "    </tr>\n",
       "    <tr>\n",
       "      <th>1</th>\n",
       "      <td>0.982478</td>\n",
       "    </tr>\n",
       "    <tr>\n",
       "      <th>2</th>\n",
       "      <td>1.138226</td>\n",
       "    </tr>\n",
       "    <tr>\n",
       "      <th>3</th>\n",
       "      <td>1.072158</td>\n",
       "    </tr>\n",
       "    <tr>\n",
       "      <th>4</th>\n",
       "      <td>1.294371</td>\n",
       "    </tr>\n",
       "    <tr>\n",
       "      <th>...</th>\n",
       "      <td>...</td>\n",
       "    </tr>\n",
       "    <tr>\n",
       "      <th>31688</th>\n",
       "      <td>0.978273</td>\n",
       "    </tr>\n",
       "    <tr>\n",
       "      <th>31689</th>\n",
       "      <td>2.407715</td>\n",
       "    </tr>\n",
       "    <tr>\n",
       "      <th>31690</th>\n",
       "      <td>0.783816</td>\n",
       "    </tr>\n",
       "    <tr>\n",
       "      <th>31691</th>\n",
       "      <td>0.983567</td>\n",
       "    </tr>\n",
       "    <tr>\n",
       "      <th>31692</th>\n",
       "      <td>0.985375</td>\n",
       "    </tr>\n",
       "  </tbody>\n",
       "</table>\n",
       "<p>31693 rows × 1 columns</p>\n",
       "</div>"
      ],
      "text/plain": [
       "       income_rate\n",
       "0        23.368421\n",
       "1         0.982478\n",
       "2         1.138226\n",
       "3         1.072158\n",
       "4         1.294371\n",
       "...            ...\n",
       "31688     0.978273\n",
       "31689     2.407715\n",
       "31690     0.783816\n",
       "31691     0.983567\n",
       "31692     0.985375\n",
       "\n",
       "[31693 rows x 1 columns]"
      ]
     },
     "execution_count": 5,
     "metadata": {},
     "output_type": "execute_result"
    }
   ],
   "source": [
    "y_train"
   ]
  },
  {
   "cell_type": "code",
   "execution_count": 10,
   "metadata": {},
   "outputs": [],
   "source": [
    "train = X_train\n",
    "train['ir'] = y_train['income_rate']"
   ]
  },
  {
   "cell_type": "code",
   "execution_count": 25,
   "metadata": {},
   "outputs": [],
   "source": [
    "train = train[train['ir']<20]"
   ]
  },
  {
   "cell_type": "code",
   "execution_count": 14,
   "metadata": {},
   "outputs": [],
   "source": [
    "cols = ['income_rate','PULocationID','total_adjusted_amount','trip_distance','fare_amount','tip_amount','humidity','cloudcover','visibility']"
   ]
  },
  {
   "cell_type": "code",
   "execution_count": 28,
   "metadata": {},
   "outputs": [
    {
     "data": {
      "text/plain": [
       "<matplotlib.collections.PathCollection at 0x7f713f310f40>"
      ]
     },
     "execution_count": 28,
     "metadata": {},
     "output_type": "execute_result"
    },
    {
     "data": {
      "image/png": "[encoded data removed]",
      "text/plain": [
       "<Figure size 432x288 with 1 Axes>"
      ]
     },
     "metadata": {},
     "output_type": "display_data"
    }
   ],
   "source": [
    "plt.scatter(train['PULocationID'],train['ir'])"
   ]
  },
  {
   "cell_type": "code",
   "execution_count": 30,
   "metadata": {},
   "outputs": [
    {
     "data": {
      "text/plain": [
       "<matplotlib.collections.PathCollection at 0x7f713c04bb20>"
      ]
     },
     "execution_count": 30,
     "metadata": {},
     "output_type": "execute_result"
    },
    {
     "data": {
      "image/png": "[encoded data removed]",
      "text/plain": [
       "<Figure size 432x288 with 1 Axes>"
      ]
     },
     "metadata": {},
     "output_type": "display_data"
    }
   ],
   "source": [
    "# log transform PULocationID\n",
    "plt.scatter(np.log(train['PULocationID']),train['ir'])"
   ]
  },
  {
   "cell_type": "code",
   "execution_count": 41,
   "metadata": {},
   "outputs": [
    {
     "data": {
      "text/plain": [
       "<matplotlib.collections.PathCollection at 0x7f712c379c10>"
      ]
     },
     "execution_count": 41,
     "metadata": {},
     "output_type": "execute_result"
    },
    {
     "data": {
      "image/png": "[encoded data removed]",
      "text/plain": [
       "<Figure size 432x288 with 1 Axes>"
      ]
     },
     "metadata": {},
     "output_type": "display_data"
    }
   ],
   "source": [
    "plt.scatter(train['total_adjusted_amount'],train['ir'])"
   ]
  },
  {
   "cell_type": "code",
   "execution_count": 45,
   "metadata": {},
   "outputs": [
    {
     "data": {
      "text/plain": [
       "<matplotlib.collections.PathCollection at 0x7f71105c1d60>"
      ]
     },
     "execution_count": 45,
     "metadata": {},
     "output_type": "execute_result"
    },
    {
     "data": {
      "image/png": "[encoded data removed]",
      "text/plain": [
       "<Figure size 432x288 with 1 Axes>"
      ]
     },
     "metadata": {},
     "output_type": "display_data"
    }
   ],
   "source": [
    "plt.scatter(train['trip_distance'],train['ir'])"
   ]
  },
  {
   "cell_type": "code",
   "execution_count": 44,
   "metadata": {},
   "outputs": [
    {
     "data": {
      "text/plain": [
       "<matplotlib.collections.PathCollection at 0x7f71105c1700>"
      ]
     },
     "execution_count": 44,
     "metadata": {},
     "output_type": "execute_result"
    },
    {
     "data": {
      "image/png": "[encoded data removed]",
      "text/plain": [
       "<Figure size 432x288 with 1 Axes>"
      ]
     },
     "metadata": {},
     "output_type": "display_data"
    }
   ],
   "source": [
    "# log transform\n",
    "plt.scatter(np.log(train['trip_distance']),train['ir'])"
   ]
  },
  {
   "cell_type": "code",
   "execution_count": 46,
   "metadata": {},
   "outputs": [
    {
     "data": {
      "text/plain": [
       "<matplotlib.collections.PathCollection at 0x7f711051e220>"
      ]
     },
     "execution_count": 46,
     "metadata": {},
     "output_type": "execute_result"
    },
    {
     "data": {
      "image/png": "[encoded data removed]",
      "text/plain": [
       "<Figure size 432x288 with 1 Axes>"
      ]
     },
     "metadata": {},
     "output_type": "display_data"
    }
   ],
   "source": [
    "plt.scatter(train['fare_amount'],train['ir'])"
   ]
  },
  {
   "cell_type": "code",
   "execution_count": 52,
   "metadata": {},
   "outputs": [
    {
     "data": {
      "text/plain": [
       "<matplotlib.collections.PathCollection at 0x7f71102959d0>"
      ]
     },
     "execution_count": 52,
     "metadata": {},
     "output_type": "execute_result"
    },
    {
     "data": {
      "image/png": "[encoded data removed]",
      "text/plain": [
       "<Figure size 432x288 with 1 Axes>"
      ]
     },
     "metadata": {},
     "output_type": "display_data"
    }
   ],
   "source": [
    "# log transform\n",
    "plt.scatter(np.log(train['fare_amount']),train['ir'])"
   ]
  },
  {
   "cell_type": "code",
   "execution_count": 54,
   "metadata": {},
   "outputs": [
    {
     "data": {
      "text/plain": [
       "<matplotlib.collections.PathCollection at 0x7f7110201fd0>"
      ]
     },
     "execution_count": 54,
     "metadata": {},
     "output_type": "execute_result"
    },
    {
     "data": {
      "image/png": "[encoded data removed]",
      "text/plain": [
       "<Figure size 432x288 with 1 Axes>"
      ]
     },
     "metadata": {},
     "output_type": "display_data"
    }
   ],
   "source": [
    "plt.scatter(train['tip_amount'], train['ir'])"
   ]
  },
  {
   "cell_type": "code",
   "execution_count": 55,
   "metadata": {},
   "outputs": [
    {
     "data": {
      "text/plain": [
       "<matplotlib.collections.PathCollection at 0x7f7110175550>"
      ]
     },
     "execution_count": 55,
     "metadata": {},
     "output_type": "execute_result"
    },
    {
     "data": {
      "image/png": "[encoded data removed]",
      "text/plain": [
       "<Figure size 432x288 with 1 Axes>"
      ]
     },
     "metadata": {},
     "output_type": "display_data"
    }
   ],
   "source": [
    "plt.scatter(np.log(train['tip_amount']), train['ir'])"
   ]
  },
  {
   "cell_type": "code",
   "execution_count": null,
   "metadata": {},
   "outputs": [],
   "source": []
  },
  {
   "cell_type": "code",
   "execution_count": null,
   "metadata": {},
   "outputs": [],
   "source": []
  },
  {
   "cell_type": "code",
   "execution_count": null,
   "metadata": {},
   "outputs": [],
   "source": []
  },
  {
   "cell_type": "code",
   "execution_count": null,
   "metadata": {},
   "outputs": [],
   "source": []
  },
  {
   "cell_type": "code",
   "execution_count": null,
   "metadata": {},
   "outputs": [],
   "source": []
  },
  {
   "cell_type": "code",
   "execution_count": null,
   "metadata": {},
   "outputs": [],
   "source": []
  },
  {
   "cell_type": "code",
   "execution_count": 5,
   "metadata": {},
   "outputs": [],
   "source": []
  },
  {
   "cell_type": "code",
   "execution_count": null,
   "metadata": {},
   "outputs": [],
   "source": [
    "sample = X_new.sample(n=10000, random_state=30034)\n",
    "sns.set(style=\"ticks\", color_codes=True)\n",
    "g = sns.pairplot(sample[cols], plot_kws=dict(s=1, edgecolor=\"b\", linewidth=1),)"
   ]
  },
  {
   "cell_type": "code",
   "execution_count": 6,
   "metadata": {},
   "outputs": [
    {
     "ename": "SyntaxError",
     "evalue": "invalid syntax (1111121536.py, line 1)",
     "output_type": "error",
     "traceback": [
      "\u001b[0;36m  File \u001b[0;32m\"/tmp/ipykernel_325899/1111121536.py\"\u001b[0;36m, line \u001b[0;32m1\u001b[0m\n\u001b[0;31m    for i in cols\u001b[0m\n\u001b[0m                 ^\u001b[0m\n\u001b[0;31mSyntaxError\u001b[0m\u001b[0;31m:\u001b[0m invalid syntax\n"
     ]
    }
   ],
   "source": [
    "for i in cols:\n",
    "    log_df = pd.DataFrame"
   ]
  },
  {
   "cell_type": "code",
   "execution_count": null,
   "metadata": {},
   "outputs": [],
   "source": []
  }
 ],
 "metadata": {
  "kernelspec": {
   "display_name": "Python 3 (Anaconda 3)",
   "language": "python",
   "name": "python3"
  },
  "language_info": {
   "codemirror_mode": {
    "name": "ipython",
    "version": 3
   },
   "file_extension": ".py",
   "mimetype": "text/x-python",
   "name": "python",
   "nbconvert_exporter": "python",
   "pygments_lexer": "ipython3",
   "version": "3.8.2"
  }
 },
 "nbformat": 4,
 "nbformat_minor": 4
}

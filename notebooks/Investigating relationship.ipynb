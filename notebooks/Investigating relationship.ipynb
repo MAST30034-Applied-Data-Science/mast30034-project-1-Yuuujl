{
 "cells": [
  {
   "cell_type": "code",
   "execution_count": 1,
   "metadata": {},
   "outputs": [],
   "source": [
    "import numpy as np\n",
    "import scipy as sp\n",
    "import pandas as pd\n",
    "import seaborn as sns\n",
    "import matplotlib.pyplot as plt\n",
    "from statsmodels.formula.api import ols\n",
    "pd.options.mode.chained_assignment = None\n"
   ]
  },
  {
   "cell_type": "code",
   "execution_count": 2,
   "metadata": {},
   "outputs": [],
   "source": [
    "df = pd.read_csv('../data/curated/final_data_new')"
   ]
  },
  {
   "cell_type": "code",
   "execution_count": 3,
   "metadata": {},
   "outputs": [
    {
     "data": {
      "text/html": [
       "<div>\n",
       "<style scoped>\n",
       "    .dataframe tbody tr th:only-of-type {\n",
       "        vertical-align: middle;\n",
       "    }\n",
       "\n",
       "    .dataframe tbody tr th {\n",
       "        vertical-align: top;\n",
       "    }\n",
       "\n",
       "    .dataframe thead th {\n",
       "        text-align: right;\n",
       "    }\n",
       "</style>\n",
       "<table border=\"1\" class=\"dataframe\">\n",
       "  <thead>\n",
       "    <tr style=\"text-align: right;\">\n",
       "      <th></th>\n",
       "      <th>Unnamed: 0</th>\n",
       "      <th>PULocationID</th>\n",
       "      <th>date</th>\n",
       "      <th>income_rate</th>\n",
       "      <th>total_adjusted_amount</th>\n",
       "      <th>trip_distance</th>\n",
       "      <th>fare_amount</th>\n",
       "      <th>tip_amount</th>\n",
       "      <th>temp</th>\n",
       "      <th>dew</th>\n",
       "      <th>humidity</th>\n",
       "      <th>snow</th>\n",
       "      <th>snowdepth</th>\n",
       "      <th>cloudcover</th>\n",
       "      <th>visibility</th>\n",
       "    </tr>\n",
       "  </thead>\n",
       "  <tbody>\n",
       "    <tr>\n",
       "      <th>0</th>\n",
       "      <td>0</td>\n",
       "      <td>1</td>\n",
       "      <td>2016-12-04</td>\n",
       "      <td>23.368421</td>\n",
       "      <td>17.300000</td>\n",
       "      <td>0.200000</td>\n",
       "      <td>17.000000</td>\n",
       "      <td>0.000000</td>\n",
       "      <td>5.8</td>\n",
       "      <td>-5.1</td>\n",
       "      <td>45.8</td>\n",
       "      <td>0.0</td>\n",
       "      <td>0.0</td>\n",
       "      <td>51.0</td>\n",
       "      <td>16.0</td>\n",
       "    </tr>\n",
       "    <tr>\n",
       "      <th>1</th>\n",
       "      <td>1</td>\n",
       "      <td>4</td>\n",
       "      <td>2016-12-04</td>\n",
       "      <td>0.982478</td>\n",
       "      <td>11.909603</td>\n",
       "      <td>1.767352</td>\n",
       "      <td>9.058118</td>\n",
       "      <td>1.660000</td>\n",
       "      <td>5.8</td>\n",
       "      <td>-5.1</td>\n",
       "      <td>45.8</td>\n",
       "      <td>0.0</td>\n",
       "      <td>0.0</td>\n",
       "      <td>51.0</td>\n",
       "      <td>16.0</td>\n",
       "    </tr>\n",
       "    <tr>\n",
       "      <th>2</th>\n",
       "      <td>2</td>\n",
       "      <td>7</td>\n",
       "      <td>2016-12-04</td>\n",
       "      <td>1.138226</td>\n",
       "      <td>10.253102</td>\n",
       "      <td>1.596759</td>\n",
       "      <td>7.714427</td>\n",
       "      <td>1.354462</td>\n",
       "      <td>5.8</td>\n",
       "      <td>-5.1</td>\n",
       "      <td>45.8</td>\n",
       "      <td>0.0</td>\n",
       "      <td>0.0</td>\n",
       "      <td>51.0</td>\n",
       "      <td>16.0</td>\n",
       "    </tr>\n",
       "    <tr>\n",
       "      <th>3</th>\n",
       "      <td>3</td>\n",
       "      <td>8</td>\n",
       "      <td>2016-12-04</td>\n",
       "      <td>1.072158</td>\n",
       "      <td>12.001821</td>\n",
       "      <td>2.463333</td>\n",
       "      <td>9.500000</td>\n",
       "      <td>1.550000</td>\n",
       "      <td>5.8</td>\n",
       "      <td>-5.1</td>\n",
       "      <td>45.8</td>\n",
       "      <td>0.0</td>\n",
       "      <td>0.0</td>\n",
       "      <td>51.0</td>\n",
       "      <td>16.0</td>\n",
       "    </tr>\n",
       "    <tr>\n",
       "      <th>4</th>\n",
       "      <td>4</td>\n",
       "      <td>10</td>\n",
       "      <td>2016-12-04</td>\n",
       "      <td>1.294371</td>\n",
       "      <td>16.545876</td>\n",
       "      <td>3.130000</td>\n",
       "      <td>12.400000</td>\n",
       "      <td>2.000000</td>\n",
       "      <td>5.8</td>\n",
       "      <td>-5.1</td>\n",
       "      <td>45.8</td>\n",
       "      <td>0.0</td>\n",
       "      <td>0.0</td>\n",
       "      <td>51.0</td>\n",
       "      <td>16.0</td>\n",
       "    </tr>\n",
       "  </tbody>\n",
       "</table>\n",
       "</div>"
      ],
      "text/plain": [
       "   Unnamed: 0  PULocationID        date  income_rate  total_adjusted_amount  \\\n",
       "0           0             1  2016-12-04    23.368421              17.300000   \n",
       "1           1             4  2016-12-04     0.982478              11.909603   \n",
       "2           2             7  2016-12-04     1.138226              10.253102   \n",
       "3           3             8  2016-12-04     1.072158              12.001821   \n",
       "4           4            10  2016-12-04     1.294371              16.545876   \n",
       "\n",
       "   trip_distance  fare_amount  tip_amount  temp  dew  humidity  snow  \\\n",
       "0       0.200000    17.000000    0.000000   5.8 -5.1      45.8   0.0   \n",
       "1       1.767352     9.058118    1.660000   5.8 -5.1      45.8   0.0   \n",
       "2       1.596759     7.714427    1.354462   5.8 -5.1      45.8   0.0   \n",
       "3       2.463333     9.500000    1.550000   5.8 -5.1      45.8   0.0   \n",
       "4       3.130000    12.400000    2.000000   5.8 -5.1      45.8   0.0   \n",
       "\n",
       "   snowdepth  cloudcover  visibility  \n",
       "0        0.0        51.0        16.0  \n",
       "1        0.0        51.0        16.0  \n",
       "2        0.0        51.0        16.0  \n",
       "3        0.0        51.0        16.0  \n",
       "4        0.0        51.0        16.0  "
      ]
     },
     "execution_count": 3,
     "metadata": {},
     "output_type": "execute_result"
    }
   ],
   "source": [
    "df.head()"
   ]
  },
  {
   "cell_type": "code",
   "execution_count": 4,
   "metadata": {},
   "outputs": [],
   "source": [
    "df1 = df[df['income_rate']<50]"
   ]
  },
  {
   "cell_type": "code",
   "execution_count": 35,
   "metadata": {},
   "outputs": [],
   "source": [
    "df['log_ir'] = np.log(df['income_rate'])"
   ]
  },
  {
   "cell_type": "code",
   "execution_count": 5,
   "metadata": {},
   "outputs": [],
   "source": [
    "sample = df1.sample(n=10000, random_state=30034)\n",
    "cols = ['income_rate','total_adjusted_amount','trip_distance','fare_amount','tip_amount','temp','dew','humidity','snow','snowdepth','cloudcover','visibility']"
   ]
  },
  {
   "cell_type": "code",
   "execution_count": null,
   "metadata": {},
   "outputs": [],
   "source": [
    "sns.set(style=\"ticks\", color_codes=True)\n",
    "g = sns.pairplot(sample[cols], plot_kws=dict(s=1, edgecolor=\"b\", linewidth=1),)"
   ]
  },
  {
   "cell_type": "code",
   "execution_count": 9,
   "metadata": {},
   "outputs": [
    {
     "data": {
      "image/png": "[encoded data removed]",
      "text/plain": [
       "<Figure size 432x288 with 2 Axes>"
      ]
     },
     "metadata": {},
     "output_type": "display_data"
    }
   ],
   "source": [
    "sns.heatmap(sample.corr())\n",
    "plt.title('Pearson Correlation Metric')\n",
    "plt.show()"
   ]
  },
  {
   "cell_type": "code",
   "execution_count": null,
   "metadata": {},
   "outputs": [],
   "source": []
  },
  {
   "cell_type": "code",
   "execution_count": null,
   "metadata": {},
   "outputs": [],
   "source": []
  }
 ],
 "metadata": {
  "kernelspec": {
   "display_name": "Python 3 (Anaconda 3)",
   "language": "python",
   "name": "python3"
  },
  "language_info": {
   "codemirror_mode": {
    "name": "ipython",
    "version": 3
   },
   "file_extension": ".py",
   "mimetype": "text/x-python",
   "name": "python",
   "nbconvert_exporter": "python",
   "pygments_lexer": "ipython3",
   "version": "3.8.2"
  }
 },
 "nbformat": 4,
 "nbformat_minor": 4
}
